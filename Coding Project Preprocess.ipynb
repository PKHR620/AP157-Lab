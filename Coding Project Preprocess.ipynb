{
 "cells": [
  {
   "cell_type": "code",
   "execution_count": 186,
   "metadata": {},
   "outputs": [],
   "source": [
    "import glob\n",
    "import cv2 as cv\n",
    "import numpy as np\n",
    "import matplotlib.pyplot as plt\n",
    "import skimage\n",
    "from sklearn.model_selection import train_test_split\n",
    "import sklearn.metrics\n",
    "import os\n",
    "import sys\n",
    "from tensorflow.keras.datasets import mnist\n",
    "from tensorflow.keras.models import Sequential\n",
    "from tensorflow.keras.layers import Conv2D\n",
    "from tensorflow.keras.layers import MaxPool2D\n",
    "from tensorflow.keras.layers import Flatten\n",
    "from tensorflow.keras.layers import Dropout\n",
    "from tensorflow.keras.layers import Dense\n",
    "from PIL import Image"
   ]
  },
  {
   "cell_type": "code",
   "execution_count": 187,
   "metadata": {},
   "outputs": [],
   "source": [
    "pathc = glob.glob('circles/*.png')\n",
    "paths = glob.glob('squares/*.png')\n",
    "patht = glob.glob('triangles/*.png')\n",
    "circle_img = []\n",
    "for img in pathc:\n",
    "    n = cv.imread(img)\n",
    "    circle_img.append(n)\n",
    "    pathc = glob.glob('circles/*.png')\n",
    "square_img = []\n",
    "for img in paths:\n",
    "    n = cv.imread(img)\n",
    "    square_img.append(n)\n",
    "    pathc = glob.glob('circles/*.png')\n",
    "triangle_img = []\n",
    "for img in patht:\n",
    "    n = cv.imread(img)\n",
    "    triangle_img.append(n)"
   ]
  },
  {
   "cell_type": "code",
   "execution_count": 188,
   "metadata": {},
   "outputs": [
    {
     "name": "stdout",
     "output_type": "stream",
     "text": [
      "(100, 28, 28, 3)\n",
      "[[[255 255 255]\n",
      "  [255 255 255]\n",
      "  [255 255 255]\n",
      "  ...\n",
      "  [255 255 255]\n",
      "  [255 255 255]\n",
      "  [255 255 255]]\n",
      "\n",
      " [[255 255 255]\n",
      "  [255 255 255]\n",
      "  [255 255 255]\n",
      "  ...\n",
      "  [255 255 255]\n",
      "  [255 255 255]\n",
      "  [255 255 255]]\n",
      "\n",
      " [[255 255 255]\n",
      "  [255 255 255]\n",
      "  [255 255 255]\n",
      "  ...\n",
      "  [255 255 255]\n",
      "  [255 255 255]\n",
      "  [255 255 255]]\n",
      "\n",
      " ...\n",
      "\n",
      " [[255 255 255]\n",
      "  [255 255 255]\n",
      "  [255 255 255]\n",
      "  ...\n",
      "  [255 255 255]\n",
      "  [255 255 255]\n",
      "  [255 255 255]]\n",
      "\n",
      " [[255 255 255]\n",
      "  [255 255 255]\n",
      "  [255 255 255]\n",
      "  ...\n",
      "  [255 255 255]\n",
      "  [255 255 255]\n",
      "  [255 255 255]]\n",
      "\n",
      " [[255 255 255]\n",
      "  [255 255 255]\n",
      "  [255 255 255]\n",
      "  ...\n",
      "  [255 255 255]\n",
      "  [255 255 255]\n",
      "  [255 255 255]]]\n"
     ]
    }
   ],
   "source": [
    "print(np.shape(circle_img))\n",
    "print(circle_img[0])"
   ]
  },
  {
   "cell_type": "code",
   "execution_count": 189,
   "metadata": {},
   "outputs": [],
   "source": [
    "circle_train, circle_test = train_test_split(circle_img, train_size = 0.8, test_size = 0.2)\n",
    "triangle_train, triangle_test = train_test_split(triangle_img, train_size = 0.8, test_size = 0.2)\n",
    "square_train, square_test = train_test_split(square_img, train_size = 0.8, test_size = 0.2)"
   ]
  },
  {
   "cell_type": "code",
   "execution_count": 206,
   "metadata": {},
   "outputs": [
    {
     "name": "stdout",
     "output_type": "stream",
     "text": [
      "240\n",
      "60\n"
     ]
    },
    {
     "data": {
      "text/plain": [
       "240"
      ]
     },
     "execution_count": 206,
     "metadata": {},
     "output_type": "execute_result"
    }
   ],
   "source": [
    "total_train = []\n",
    "total_test = []\n",
    "for i in range(len(circle_train)):\n",
    "    total_train.append(circle_train[i])\n",
    "    total_train.append(triangle_train[i])\n",
    "    total_train.append(square_train[i])\n",
    "for i in range(len(circle_test)):\n",
    "    total_test.append(circle_test[i])\n",
    "    total_test.append(triangle_test[i])\n",
    "    total_test.append(square_test[i])\n",
    "print(len(total_train))\n",
    "print(len(total_test))\n",
    "total_train = np.array(total_train)\n",
    "np.random.shuffle(total_train)\n",
    "np.random.shuffle(total_test)"
   ]
  },
  {
   "cell_type": "code",
   "execution_count": 207,
   "metadata": {},
   "outputs": [],
   "source": [
    "namelist = []\n",
    "for i in range(len(total_train)):\n",
    "    im = Image.fromarray(total_train[i])\n",
    "    im.save(\"train{}.jpeg\".format(i))"
   ]
  },
  {
   "cell_type": "code",
   "execution_count": 209,
   "metadata": {},
   "outputs": [],
   "source": [
    "namelist = []\n",
    "for i in range(len(total_test)):\n",
    "    im = Image.fromarray(total_test[i])\n",
    "    im.save(\"test{}.jpeg\".format(i))"
   ]
  }
 ],
 "metadata": {
  "kernelspec": {
   "display_name": "Python 3",
   "language": "python",
   "name": "python3"
  },
  "language_info": {
   "codemirror_mode": {
    "name": "ipython",
    "version": 3
   },
   "file_extension": ".py",
   "mimetype": "text/x-python",
   "name": "python",
   "nbconvert_exporter": "python",
   "pygments_lexer": "ipython3",
   "version": "3.11.9"
  }
 },
 "nbformat": 4,
 "nbformat_minor": 2
}
